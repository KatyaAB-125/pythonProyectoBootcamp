{
 "cells": [
  {
   "cell_type": "code",
   "execution_count": 17,
   "metadata": {},
   "outputs": [],
   "source": [
    "%matplotlib inline"
   ]
  },
  {
   "cell_type": "code",
   "execution_count": 18,
   "metadata": {},
   "outputs": [],
   "source": [
    "import datetime # Tipo de dato para fechas y horas\n",
    "import pandas as pd # Manejo de datos tabulados\n",
    "import numpy as np # Algebra Lineal y operaciones matematicas\n",
    "import matplotlib.pyplot as plt # Graficos de datos\n",
    "import seaborn as sns # Graficos estadisticos\n",
    "import pandas_profiling as ppr # ?????????\n",
    "import geopandas as gpd # Pandas para datos geograficos (Mapas!!)\n",
    "from fitter import Fitter # Ajuste de distribuciones de probs"
   ]
  },
  {
   "cell_type": "code",
   "execution_count": 29,
   "metadata": {},
   "outputs": [],
   "source": [
    "# Leemos los datos seleccionados\n",
    "df_main = pd.read_csv('../data/economy-and-growth_per.csv')\n",
    "df_external = pd.read_csv('../data/external-debt_per.csv')\n",
    "df_financial = pd.read_csv('../data/financial-sector_per.csv')\n",
    "df_indicadores = pd.read_csv('../data/indicators_per.csv')\n",
    "df_health = pd.read_csv('../data/health_per.csv')\n",
    "df_infrastructure = pd.read_csv('../data/infrastructure_per.csv')\n",
    "df_energy = pd.read_csv('../data/energy-and-mining_per.csv')\n",
    "\n",
    "\n",
    "\n"
   ]
  },
  {
   "cell_type": "code",
   "execution_count": 6,
   "metadata": {},
   "outputs": [
    {
     "data": {
      "text/html": [
       "<div>\n",
       "<style scoped>\n",
       "    .dataframe tbody tr th:only-of-type {\n",
       "        vertical-align: middle;\n",
       "    }\n",
       "\n",
       "    .dataframe tbody tr th {\n",
       "        vertical-align: top;\n",
       "    }\n",
       "\n",
       "    .dataframe thead th {\n",
       "        text-align: right;\n",
       "    }\n",
       "</style>\n",
       "<table border=\"1\" class=\"dataframe\">\n",
       "  <thead>\n",
       "    <tr style=\"text-align: right;\">\n",
       "      <th></th>\n",
       "      <th>Country Name</th>\n",
       "      <th>Country ISO3</th>\n",
       "      <th>Year</th>\n",
       "      <th>Indicator Name</th>\n",
       "      <th>Indicator Code</th>\n",
       "      <th>Value</th>\n",
       "    </tr>\n",
       "  </thead>\n",
       "  <tbody>\n",
       "    <tr>\n",
       "      <th>0</th>\n",
       "      <td>#country+name</td>\n",
       "      <td>#country+code</td>\n",
       "      <td>#date+year</td>\n",
       "      <td>#indicator+name</td>\n",
       "      <td>#indicator+code</td>\n",
       "      <td>#indicator+value+num</td>\n",
       "    </tr>\n",
       "    <tr>\n",
       "      <th>1</th>\n",
       "      <td>Peru</td>\n",
       "      <td>PER</td>\n",
       "      <td>2014</td>\n",
       "      <td>Annualized Mean Income Growth (2004-2014)</td>\n",
       "      <td>5.0.AMeanIncGr.All</td>\n",
       "      <td>4.07865692</td>\n",
       "    </tr>\n",
       "    <tr>\n",
       "      <th>2</th>\n",
       "      <td>Peru</td>\n",
       "      <td>PER</td>\n",
       "      <td>2014</td>\n",
       "      <td>Annualized Mean Income Growth Bottom 40 Percen...</td>\n",
       "      <td>5.0.AMeanIncGr.B40</td>\n",
       "      <td>6.48736384</td>\n",
       "    </tr>\n",
       "    <tr>\n",
       "      <th>3</th>\n",
       "      <td>Peru</td>\n",
       "      <td>PER</td>\n",
       "      <td>2009</td>\n",
       "      <td>Annualized Mean Income Growth (2004-2009)</td>\n",
       "      <td>5.1.AMeanIncGr.All</td>\n",
       "      <td>5.05714401</td>\n",
       "    </tr>\n",
       "    <tr>\n",
       "      <th>4</th>\n",
       "      <td>Peru</td>\n",
       "      <td>PER</td>\n",
       "      <td>2009</td>\n",
       "      <td>Annualized Mean Income Growth Bottom 40 Percen...</td>\n",
       "      <td>5.1.AMeanIncGr.B40</td>\n",
       "      <td>7.20753731</td>\n",
       "    </tr>\n",
       "  </tbody>\n",
       "</table>\n",
       "</div>"
      ],
      "text/plain": [
       "    Country Name   Country ISO3        Year  \\\n",
       "0  #country+name  #country+code  #date+year   \n",
       "1           Peru            PER        2014   \n",
       "2           Peru            PER        2014   \n",
       "3           Peru            PER        2009   \n",
       "4           Peru            PER        2009   \n",
       "\n",
       "                                      Indicator Name      Indicator Code  \\\n",
       "0                                    #indicator+name     #indicator+code   \n",
       "1          Annualized Mean Income Growth (2004-2014)  5.0.AMeanIncGr.All   \n",
       "2  Annualized Mean Income Growth Bottom 40 Percen...  5.0.AMeanIncGr.B40   \n",
       "3          Annualized Mean Income Growth (2004-2009)  5.1.AMeanIncGr.All   \n",
       "4  Annualized Mean Income Growth Bottom 40 Percen...  5.1.AMeanIncGr.B40   \n",
       "\n",
       "                  Value  \n",
       "0  #indicator+value+num  \n",
       "1            4.07865692  \n",
       "2            6.48736384  \n",
       "3            5.05714401  \n",
       "4            7.20753731  "
      ]
     },
     "execution_count": 6,
     "metadata": {},
     "output_type": "execute_result"
    }
   ],
   "source": [
    "df_main.head()"
   ]
  },
  {
   "cell_type": "code",
   "execution_count": null,
   "metadata": {},
   "outputs": [
    {
     "data": {
      "text/html": [
       "<div>\n",
       "<style scoped>\n",
       "    .dataframe tbody tr th:only-of-type {\n",
       "        vertical-align: middle;\n",
       "    }\n",
       "\n",
       "    .dataframe tbody tr th {\n",
       "        vertical-align: top;\n",
       "    }\n",
       "\n",
       "    .dataframe thead th {\n",
       "        text-align: right;\n",
       "    }\n",
       "</style>\n",
       "<table border=\"1\" class=\"dataframe\">\n",
       "  <thead>\n",
       "    <tr style=\"text-align: right;\">\n",
       "      <th></th>\n",
       "      <th>Country Name</th>\n",
       "      <th>Country ISO3</th>\n",
       "      <th>Year</th>\n",
       "      <th>Indicator Name</th>\n",
       "      <th>Indicator Code</th>\n",
       "      <th>Value</th>\n",
       "    </tr>\n",
       "  </thead>\n",
       "  <tbody>\n",
       "    <tr>\n",
       "      <th>0</th>\n",
       "      <td>#country+name</td>\n",
       "      <td>#country+code</td>\n",
       "      <td>#date+year</td>\n",
       "      <td>#indicator+name</td>\n",
       "      <td>#indicator+code</td>\n",
       "      <td>#indicator+value+num</td>\n",
       "    </tr>\n",
       "    <tr>\n",
       "      <th>1</th>\n",
       "      <td>Peru</td>\n",
       "      <td>PER</td>\n",
       "      <td>2020</td>\n",
       "      <td>Imports of goods, services and primary income ...</td>\n",
       "      <td>BM.GSR.TOTL.CD</td>\n",
       "      <td>50176078373.8539</td>\n",
       "    </tr>\n",
       "    <tr>\n",
       "      <th>2</th>\n",
       "      <td>Peru</td>\n",
       "      <td>PER</td>\n",
       "      <td>2019</td>\n",
       "      <td>Imports of goods, services and primary income ...</td>\n",
       "      <td>BM.GSR.TOTL.CD</td>\n",
       "      <td>63352690362.2345</td>\n",
       "    </tr>\n",
       "    <tr>\n",
       "      <th>3</th>\n",
       "      <td>Peru</td>\n",
       "      <td>PER</td>\n",
       "      <td>2018</td>\n",
       "      <td>Imports of goods, services and primary income ...</td>\n",
       "      <td>BM.GSR.TOTL.CD</td>\n",
       "      <td>64891853578.1998</td>\n",
       "    </tr>\n",
       "    <tr>\n",
       "      <th>4</th>\n",
       "      <td>Peru</td>\n",
       "      <td>PER</td>\n",
       "      <td>2017</td>\n",
       "      <td>Imports of goods, services and primary income ...</td>\n",
       "      <td>BM.GSR.TOTL.CD</td>\n",
       "      <td>60304621972.2648</td>\n",
       "    </tr>\n",
       "  </tbody>\n",
       "</table>\n",
       "</div>"
      ],
      "text/plain": [
       "    Country Name   Country ISO3        Year  \\\n",
       "0  #country+name  #country+code  #date+year   \n",
       "1           Peru            PER        2020   \n",
       "2           Peru            PER        2019   \n",
       "3           Peru            PER        2018   \n",
       "4           Peru            PER        2017   \n",
       "\n",
       "                                      Indicator Name   Indicator Code  \\\n",
       "0                                    #indicator+name  #indicator+code   \n",
       "1  Imports of goods, services and primary income ...   BM.GSR.TOTL.CD   \n",
       "2  Imports of goods, services and primary income ...   BM.GSR.TOTL.CD   \n",
       "3  Imports of goods, services and primary income ...   BM.GSR.TOTL.CD   \n",
       "4  Imports of goods, services and primary income ...   BM.GSR.TOTL.CD   \n",
       "\n",
       "                  Value  \n",
       "0  #indicator+value+num  \n",
       "1      50176078373.8539  \n",
       "2      63352690362.2345  \n",
       "3      64891853578.1998  \n",
       "4      60304621972.2648  "
      ]
     },
     "execution_count": 5,
     "metadata": {},
     "output_type": "execute_result"
    }
   ],
   "source": [
    "df_external.head()"
   ]
  },
  {
   "cell_type": "code",
   "execution_count": null,
   "metadata": {},
   "outputs": [
    {
     "data": {
      "text/html": [
       "<div>\n",
       "<style scoped>\n",
       "    .dataframe tbody tr th:only-of-type {\n",
       "        vertical-align: middle;\n",
       "    }\n",
       "\n",
       "    .dataframe tbody tr th {\n",
       "        vertical-align: top;\n",
       "    }\n",
       "\n",
       "    .dataframe thead th {\n",
       "        text-align: right;\n",
       "    }\n",
       "</style>\n",
       "<table border=\"1\" class=\"dataframe\">\n",
       "  <thead>\n",
       "    <tr style=\"text-align: right;\">\n",
       "      <th></th>\n",
       "      <th>Country Name</th>\n",
       "      <th>Country ISO3</th>\n",
       "      <th>Year</th>\n",
       "      <th>Indicator Name</th>\n",
       "      <th>Indicator Code</th>\n",
       "      <th>Value</th>\n",
       "    </tr>\n",
       "  </thead>\n",
       "  <tbody>\n",
       "    <tr>\n",
       "      <th>0</th>\n",
       "      <td>#country+name</td>\n",
       "      <td>#country+code</td>\n",
       "      <td>#date+year</td>\n",
       "      <td>#indicator+name</td>\n",
       "      <td>#indicator+code</td>\n",
       "      <td>#indicator+value+num</td>\n",
       "    </tr>\n",
       "    <tr>\n",
       "      <th>1</th>\n",
       "      <td>Peru</td>\n",
       "      <td>PER</td>\n",
       "      <td>1995</td>\n",
       "      <td>Agricultural machinery, tractors</td>\n",
       "      <td>AG.AGR.TRAC.NO</td>\n",
       "      <td>13191</td>\n",
       "    </tr>\n",
       "    <tr>\n",
       "      <th>2</th>\n",
       "      <td>Peru</td>\n",
       "      <td>PER</td>\n",
       "      <td>1994</td>\n",
       "      <td>Agricultural machinery, tractors</td>\n",
       "      <td>AG.AGR.TRAC.NO</td>\n",
       "      <td>13000</td>\n",
       "    </tr>\n",
       "    <tr>\n",
       "      <th>3</th>\n",
       "      <td>Peru</td>\n",
       "      <td>PER</td>\n",
       "      <td>1993</td>\n",
       "      <td>Agricultural machinery, tractors</td>\n",
       "      <td>AG.AGR.TRAC.NO</td>\n",
       "      <td>13000</td>\n",
       "    </tr>\n",
       "    <tr>\n",
       "      <th>4</th>\n",
       "      <td>Peru</td>\n",
       "      <td>PER</td>\n",
       "      <td>1992</td>\n",
       "      <td>Agricultural machinery, tractors</td>\n",
       "      <td>AG.AGR.TRAC.NO</td>\n",
       "      <td>12800</td>\n",
       "    </tr>\n",
       "  </tbody>\n",
       "</table>\n",
       "</div>"
      ],
      "text/plain": [
       "    Country Name   Country ISO3        Year                    Indicator Name  \\\n",
       "0  #country+name  #country+code  #date+year                   #indicator+name   \n",
       "1           Peru            PER        1995  Agricultural machinery, tractors   \n",
       "2           Peru            PER        1994  Agricultural machinery, tractors   \n",
       "3           Peru            PER        1993  Agricultural machinery, tractors   \n",
       "4           Peru            PER        1992  Agricultural machinery, tractors   \n",
       "\n",
       "    Indicator Code                 Value  \n",
       "0  #indicator+code  #indicator+value+num  \n",
       "1   AG.AGR.TRAC.NO                 13191  \n",
       "2   AG.AGR.TRAC.NO                 13000  \n",
       "3   AG.AGR.TRAC.NO                 13000  \n",
       "4   AG.AGR.TRAC.NO                 12800  "
      ]
     },
     "execution_count": 6,
     "metadata": {},
     "output_type": "execute_result"
    }
   ],
   "source": [
    "df_indicadores.head()"
   ]
  },
  {
   "cell_type": "code",
   "execution_count": 8,
   "metadata": {},
   "outputs": [
    {
     "data": {
      "text/html": [
       "<div>\n",
       "<style scoped>\n",
       "    .dataframe tbody tr th:only-of-type {\n",
       "        vertical-align: middle;\n",
       "    }\n",
       "\n",
       "    .dataframe tbody tr th {\n",
       "        vertical-align: top;\n",
       "    }\n",
       "\n",
       "    .dataframe thead th {\n",
       "        text-align: right;\n",
       "    }\n",
       "</style>\n",
       "<table border=\"1\" class=\"dataframe\">\n",
       "  <thead>\n",
       "    <tr style=\"text-align: right;\">\n",
       "      <th></th>\n",
       "      <th>Country Name</th>\n",
       "      <th>Country ISO3</th>\n",
       "      <th>Year</th>\n",
       "      <th>Indicator Name</th>\n",
       "      <th>Indicator Code</th>\n",
       "      <th>Value</th>\n",
       "    </tr>\n",
       "  </thead>\n",
       "  <tbody>\n",
       "    <tr>\n",
       "      <th>0</th>\n",
       "      <td>#country+name</td>\n",
       "      <td>#country+code</td>\n",
       "      <td>#date+year</td>\n",
       "      <td>#indicator+name</td>\n",
       "      <td>#indicator+code</td>\n",
       "      <td>#indicator+value+num</td>\n",
       "    </tr>\n",
       "    <tr>\n",
       "      <th>1</th>\n",
       "      <td>Peru</td>\n",
       "      <td>PER</td>\n",
       "      <td>2016</td>\n",
       "      <td>Proportion of women subjected to physical and/...</td>\n",
       "      <td>SG.VAW.1549.ZS</td>\n",
       "      <td>10.8</td>\n",
       "    </tr>\n",
       "    <tr>\n",
       "      <th>2</th>\n",
       "      <td>Peru</td>\n",
       "      <td>PER</td>\n",
       "      <td>2012</td>\n",
       "      <td>Women who believe a husband is justified in be...</td>\n",
       "      <td>SG.VAW.ARGU.ZS</td>\n",
       "      <td>0.8</td>\n",
       "    </tr>\n",
       "    <tr>\n",
       "      <th>3</th>\n",
       "      <td>Peru</td>\n",
       "      <td>PER</td>\n",
       "      <td>2011</td>\n",
       "      <td>Women who believe a husband is justified in be...</td>\n",
       "      <td>SG.VAW.ARGU.ZS</td>\n",
       "      <td>0.6</td>\n",
       "    </tr>\n",
       "    <tr>\n",
       "      <th>4</th>\n",
       "      <td>Peru</td>\n",
       "      <td>PER</td>\n",
       "      <td>2010</td>\n",
       "      <td>Women who believe a husband is justified in be...</td>\n",
       "      <td>SG.VAW.ARGU.ZS</td>\n",
       "      <td>1</td>\n",
       "    </tr>\n",
       "  </tbody>\n",
       "</table>\n",
       "</div>"
      ],
      "text/plain": [
       "    Country Name   Country ISO3        Year  \\\n",
       "0  #country+name  #country+code  #date+year   \n",
       "1           Peru            PER        2016   \n",
       "2           Peru            PER        2012   \n",
       "3           Peru            PER        2011   \n",
       "4           Peru            PER        2010   \n",
       "\n",
       "                                      Indicator Name   Indicator Code  \\\n",
       "0                                    #indicator+name  #indicator+code   \n",
       "1  Proportion of women subjected to physical and/...   SG.VAW.1549.ZS   \n",
       "2  Women who believe a husband is justified in be...   SG.VAW.ARGU.ZS   \n",
       "3  Women who believe a husband is justified in be...   SG.VAW.ARGU.ZS   \n",
       "4  Women who believe a husband is justified in be...   SG.VAW.ARGU.ZS   \n",
       "\n",
       "                  Value  \n",
       "0  #indicator+value+num  \n",
       "1                  10.8  \n",
       "2                   0.8  \n",
       "3                   0.6  \n",
       "4                     1  "
      ]
     },
     "execution_count": 8,
     "metadata": {},
     "output_type": "execute_result"
    }
   ],
   "source": [
    "df_health.head()"
   ]
  },
  {
   "cell_type": "code",
   "execution_count": 9,
   "metadata": {},
   "outputs": [
    {
     "data": {
      "text/html": [
       "<div>\n",
       "<style scoped>\n",
       "    .dataframe tbody tr th:only-of-type {\n",
       "        vertical-align: middle;\n",
       "    }\n",
       "\n",
       "    .dataframe tbody tr th {\n",
       "        vertical-align: top;\n",
       "    }\n",
       "\n",
       "    .dataframe thead th {\n",
       "        text-align: right;\n",
       "    }\n",
       "</style>\n",
       "<table border=\"1\" class=\"dataframe\">\n",
       "  <thead>\n",
       "    <tr style=\"text-align: right;\">\n",
       "      <th></th>\n",
       "      <th>Country Name</th>\n",
       "      <th>Country ISO3</th>\n",
       "      <th>Year</th>\n",
       "      <th>Indicator Name</th>\n",
       "      <th>Indicator Code</th>\n",
       "      <th>Value</th>\n",
       "    </tr>\n",
       "  </thead>\n",
       "  <tbody>\n",
       "    <tr>\n",
       "      <th>0</th>\n",
       "      <td>#country+name</td>\n",
       "      <td>#country+code</td>\n",
       "      <td>#date+year</td>\n",
       "      <td>#indicator+name</td>\n",
       "      <td>#indicator+code</td>\n",
       "      <td>#indicator+value+num</td>\n",
       "    </tr>\n",
       "    <tr>\n",
       "      <th>1</th>\n",
       "      <td>Peru</td>\n",
       "      <td>PER</td>\n",
       "      <td>2020</td>\n",
       "      <td>ICT service exports (BoP, current US$)</td>\n",
       "      <td>BX.GSR.CCIS.CD</td>\n",
       "      <td>105292041.06448</td>\n",
       "    </tr>\n",
       "    <tr>\n",
       "      <th>2</th>\n",
       "      <td>Peru</td>\n",
       "      <td>PER</td>\n",
       "      <td>2019</td>\n",
       "      <td>ICT service exports (BoP, current US$)</td>\n",
       "      <td>BX.GSR.CCIS.CD</td>\n",
       "      <td>112561099.593895</td>\n",
       "    </tr>\n",
       "    <tr>\n",
       "      <th>3</th>\n",
       "      <td>Peru</td>\n",
       "      <td>PER</td>\n",
       "      <td>2018</td>\n",
       "      <td>ICT service exports (BoP, current US$)</td>\n",
       "      <td>BX.GSR.CCIS.CD</td>\n",
       "      <td>108513658.206156</td>\n",
       "    </tr>\n",
       "    <tr>\n",
       "      <th>4</th>\n",
       "      <td>Peru</td>\n",
       "      <td>PER</td>\n",
       "      <td>2017</td>\n",
       "      <td>ICT service exports (BoP, current US$)</td>\n",
       "      <td>BX.GSR.CCIS.CD</td>\n",
       "      <td>147909108.62506</td>\n",
       "    </tr>\n",
       "  </tbody>\n",
       "</table>\n",
       "</div>"
      ],
      "text/plain": [
       "    Country Name   Country ISO3        Year  \\\n",
       "0  #country+name  #country+code  #date+year   \n",
       "1           Peru            PER        2020   \n",
       "2           Peru            PER        2019   \n",
       "3           Peru            PER        2018   \n",
       "4           Peru            PER        2017   \n",
       "\n",
       "                           Indicator Name   Indicator Code  \\\n",
       "0                         #indicator+name  #indicator+code   \n",
       "1  ICT service exports (BoP, current US$)   BX.GSR.CCIS.CD   \n",
       "2  ICT service exports (BoP, current US$)   BX.GSR.CCIS.CD   \n",
       "3  ICT service exports (BoP, current US$)   BX.GSR.CCIS.CD   \n",
       "4  ICT service exports (BoP, current US$)   BX.GSR.CCIS.CD   \n",
       "\n",
       "                  Value  \n",
       "0  #indicator+value+num  \n",
       "1       105292041.06448  \n",
       "2      112561099.593895  \n",
       "3      108513658.206156  \n",
       "4       147909108.62506  "
      ]
     },
     "execution_count": 9,
     "metadata": {},
     "output_type": "execute_result"
    }
   ],
   "source": [
    "df_infrastructure.head()"
   ]
  },
  {
   "cell_type": "code",
   "execution_count": 10,
   "metadata": {},
   "outputs": [
    {
     "data": {
      "text/html": [
       "<div>\n",
       "<style scoped>\n",
       "    .dataframe tbody tr th:only-of-type {\n",
       "        vertical-align: middle;\n",
       "    }\n",
       "\n",
       "    .dataframe tbody tr th {\n",
       "        vertical-align: top;\n",
       "    }\n",
       "\n",
       "    .dataframe thead th {\n",
       "        text-align: right;\n",
       "    }\n",
       "</style>\n",
       "<table border=\"1\" class=\"dataframe\">\n",
       "  <thead>\n",
       "    <tr style=\"text-align: right;\">\n",
       "      <th></th>\n",
       "      <th>Country Name</th>\n",
       "      <th>Country ISO3</th>\n",
       "      <th>Year</th>\n",
       "      <th>Indicator Name</th>\n",
       "      <th>Indicator Code</th>\n",
       "      <th>Value</th>\n",
       "    </tr>\n",
       "  </thead>\n",
       "  <tbody>\n",
       "    <tr>\n",
       "      <th>0</th>\n",
       "      <td>#country+name</td>\n",
       "      <td>#country+code</td>\n",
       "      <td>#date+year</td>\n",
       "      <td>#indicator+name</td>\n",
       "      <td>#indicator+code</td>\n",
       "      <td>#indicator+value+num</td>\n",
       "    </tr>\n",
       "    <tr>\n",
       "      <th>1</th>\n",
       "      <td>Peru</td>\n",
       "      <td>PER</td>\n",
       "      <td>2015</td>\n",
       "      <td>Energy intensity level of primary energy (MJ/$...</td>\n",
       "      <td>EG.EGY.PRIM.PP.KD</td>\n",
       "      <td>2.79098842070488</td>\n",
       "    </tr>\n",
       "    <tr>\n",
       "      <th>2</th>\n",
       "      <td>Peru</td>\n",
       "      <td>PER</td>\n",
       "      <td>2014</td>\n",
       "      <td>Energy intensity level of primary energy (MJ/$...</td>\n",
       "      <td>EG.EGY.PRIM.PP.KD</td>\n",
       "      <td>2.78241677083545</td>\n",
       "    </tr>\n",
       "    <tr>\n",
       "      <th>3</th>\n",
       "      <td>Peru</td>\n",
       "      <td>PER</td>\n",
       "      <td>2013</td>\n",
       "      <td>Energy intensity level of primary energy (MJ/$...</td>\n",
       "      <td>EG.EGY.PRIM.PP.KD</td>\n",
       "      <td>2.46188419857603</td>\n",
       "    </tr>\n",
       "    <tr>\n",
       "      <th>4</th>\n",
       "      <td>Peru</td>\n",
       "      <td>PER</td>\n",
       "      <td>2012</td>\n",
       "      <td>Energy intensity level of primary energy (MJ/$...</td>\n",
       "      <td>EG.EGY.PRIM.PP.KD</td>\n",
       "      <td>2.61583612032158</td>\n",
       "    </tr>\n",
       "  </tbody>\n",
       "</table>\n",
       "</div>"
      ],
      "text/plain": [
       "    Country Name   Country ISO3        Year  \\\n",
       "0  #country+name  #country+code  #date+year   \n",
       "1           Peru            PER        2015   \n",
       "2           Peru            PER        2014   \n",
       "3           Peru            PER        2013   \n",
       "4           Peru            PER        2012   \n",
       "\n",
       "                                      Indicator Name     Indicator Code  \\\n",
       "0                                    #indicator+name    #indicator+code   \n",
       "1  Energy intensity level of primary energy (MJ/$...  EG.EGY.PRIM.PP.KD   \n",
       "2  Energy intensity level of primary energy (MJ/$...  EG.EGY.PRIM.PP.KD   \n",
       "3  Energy intensity level of primary energy (MJ/$...  EG.EGY.PRIM.PP.KD   \n",
       "4  Energy intensity level of primary energy (MJ/$...  EG.EGY.PRIM.PP.KD   \n",
       "\n",
       "                  Value  \n",
       "0  #indicator+value+num  \n",
       "1      2.79098842070488  \n",
       "2      2.78241677083545  \n",
       "3      2.46188419857603  \n",
       "4      2.61583612032158  "
      ]
     },
     "execution_count": 10,
     "metadata": {},
     "output_type": "execute_result"
    }
   ],
   "source": [
    "df_energy.head()"
   ]
  },
  {
   "cell_type": "markdown",
   "metadata": {},
   "source": [
    "#Tiene 12387 observaciones, 0 a 12386"
   ]
  },
  {
   "cell_type": "code",
   "execution_count": null,
   "metadata": {},
   "outputs": [
    {
     "name": "stdout",
     "output_type": "stream",
     "text": [
      "<class 'pandas.core.frame.DataFrame'>\n",
      "RangeIndex: 96248 entries, 0 to 96247\n",
      "Data columns (total 6 columns):\n",
      " #   Column          Non-Null Count  Dtype \n",
      "---  ------          --------------  ----- \n",
      " 0   Country Name    96248 non-null  object\n",
      " 1   Country ISO3    96248 non-null  object\n",
      " 2   Year            96248 non-null  object\n",
      " 3   Indicator Name  96248 non-null  object\n",
      " 4   Indicator Code  96248 non-null  object\n",
      " 5   Value           96248 non-null  object\n",
      "dtypes: object(6)\n",
      "memory usage: 4.4+ MB\n"
     ]
    }
   ],
   "source": [
    "df_indicadores.info()"
   ]
  },
  {
   "cell_type": "code",
   "execution_count": 5,
   "metadata": {},
   "outputs": [
    {
     "name": "stdout",
     "output_type": "stream",
     "text": [
      "<class 'pandas.core.frame.DataFrame'>\n",
      "RangeIndex: 12387 entries, 0 to 12386\n",
      "Data columns (total 6 columns):\n",
      " #   Column          Non-Null Count  Dtype \n",
      "---  ------          --------------  ----- \n",
      " 0   Country Name    12387 non-null  object\n",
      " 1   Country ISO3    12387 non-null  object\n",
      " 2   Year            12387 non-null  object\n",
      " 3   Indicator Name  12387 non-null  object\n",
      " 4   Indicator Code  12387 non-null  object\n",
      " 5   Value           12387 non-null  object\n",
      "dtypes: object(6)\n",
      "memory usage: 580.8+ KB\n"
     ]
    }
   ],
   "source": [
    "df_main.info()"
   ]
  },
  {
   "cell_type": "code",
   "execution_count": 6,
   "metadata": {},
   "outputs": [
    {
     "name": "stdout",
     "output_type": "stream",
     "text": [
      "<class 'pandas.core.frame.DataFrame'>\n",
      "RangeIndex: 2709 entries, 0 to 2708\n",
      "Data columns (total 6 columns):\n",
      " #   Column          Non-Null Count  Dtype \n",
      "---  ------          --------------  ----- \n",
      " 0   Country Name    2709 non-null   object\n",
      " 1   Country ISO3    2709 non-null   object\n",
      " 2   Year            2709 non-null   object\n",
      " 3   Indicator Name  2709 non-null   object\n",
      " 4   Indicator Code  2709 non-null   object\n",
      " 5   Value           2709 non-null   object\n",
      "dtypes: object(6)\n",
      "memory usage: 127.1+ KB\n"
     ]
    }
   ],
   "source": [
    "df_external.info()"
   ]
  },
  {
   "cell_type": "code",
   "execution_count": 7,
   "metadata": {},
   "outputs": [
    {
     "name": "stdout",
     "output_type": "stream",
     "text": [
      "<class 'pandas.core.frame.DataFrame'>\n",
      "RangeIndex: 4301 entries, 0 to 4300\n",
      "Data columns (total 6 columns):\n",
      " #   Column          Non-Null Count  Dtype \n",
      "---  ------          --------------  ----- \n",
      " 0   Country Name    4301 non-null   object\n",
      " 1   Country ISO3    4301 non-null   object\n",
      " 2   Year            4301 non-null   object\n",
      " 3   Indicator Name  4301 non-null   object\n",
      " 4   Indicator Code  4301 non-null   object\n",
      " 5   Value           4301 non-null   object\n",
      "dtypes: object(6)\n",
      "memory usage: 201.7+ KB\n"
     ]
    }
   ],
   "source": [
    "df_financial.info()"
   ]
  },
  {
   "cell_type": "code",
   "execution_count": 9,
   "metadata": {},
   "outputs": [
    {
     "name": "stdout",
     "output_type": "stream",
     "text": [
      "<class 'pandas.core.frame.DataFrame'>\n",
      "RangeIndex: 10711 entries, 0 to 10710\n",
      "Data columns (total 6 columns):\n",
      " #   Column          Non-Null Count  Dtype \n",
      "---  ------          --------------  ----- \n",
      " 0   Country Name    10711 non-null  object\n",
      " 1   Country ISO3    10711 non-null  object\n",
      " 2   Year            10711 non-null  object\n",
      " 3   Indicator Name  10711 non-null  object\n",
      " 4   Indicator Code  10711 non-null  object\n",
      " 5   Value           10711 non-null  object\n",
      "dtypes: object(6)\n",
      "memory usage: 502.2+ KB\n"
     ]
    }
   ],
   "source": [
    "df_health.info()"
   ]
  },
  {
   "cell_type": "code",
   "execution_count": 10,
   "metadata": {},
   "outputs": [
    {
     "name": "stdout",
     "output_type": "stream",
     "text": [
      "<class 'pandas.core.frame.DataFrame'>\n",
      "RangeIndex: 858 entries, 0 to 857\n",
      "Data columns (total 6 columns):\n",
      " #   Column          Non-Null Count  Dtype \n",
      "---  ------          --------------  ----- \n",
      " 0   Country Name    858 non-null    object\n",
      " 1   Country ISO3    858 non-null    object\n",
      " 2   Year            858 non-null    object\n",
      " 3   Indicator Name  858 non-null    object\n",
      " 4   Indicator Code  858 non-null    object\n",
      " 5   Value           858 non-null    object\n",
      "dtypes: object(6)\n",
      "memory usage: 40.3+ KB\n"
     ]
    }
   ],
   "source": [
    "df_infrastructure.info()"
   ]
  },
  {
   "cell_type": "code",
   "execution_count": 11,
   "metadata": {},
   "outputs": [
    {
     "name": "stdout",
     "output_type": "stream",
     "text": [
      "<class 'pandas.core.frame.DataFrame'>\n",
      "RangeIndex: 1169 entries, 0 to 1168\n",
      "Data columns (total 6 columns):\n",
      " #   Column          Non-Null Count  Dtype \n",
      "---  ------          --------------  ----- \n",
      " 0   Country Name    1169 non-null   object\n",
      " 1   Country ISO3    1169 non-null   object\n",
      " 2   Year            1169 non-null   object\n",
      " 3   Indicator Name  1169 non-null   object\n",
      " 4   Indicator Code  1169 non-null   object\n",
      " 5   Value           1169 non-null   object\n",
      "dtypes: object(6)\n",
      "memory usage: 54.9+ KB\n"
     ]
    }
   ],
   "source": [
    "df_energy.info()"
   ]
  },
  {
   "cell_type": "code",
   "execution_count": 12,
   "metadata": {},
   "outputs": [
    {
     "data": {
      "text/plain": [
       "(269, 12387)"
      ]
     },
     "execution_count": 12,
     "metadata": {},
     "output_type": "execute_result"
    }
   ],
   "source": [
    "# Validar integridad del identificador \"único\"\n",
    "len(df_main['Indicator Code'].unique()), df_main.shape[0]"
   ]
  },
  {
   "cell_type": "code",
   "execution_count": 14,
   "metadata": {},
   "outputs": [
    {
     "data": {
      "text/plain": [
       "(59, 2709)"
      ]
     },
     "execution_count": 14,
     "metadata": {},
     "output_type": "execute_result"
    }
   ],
   "source": [
    "# Validar integridad del identificador \"único\"\n",
    "len(df_external['Indicator Code'].unique()), df_external.shape[0]"
   ]
  },
  {
   "cell_type": "code",
   "execution_count": 15,
   "metadata": {},
   "outputs": [
    {
     "data": {
      "text/plain": [
       "(176, 4301)"
      ]
     },
     "execution_count": 15,
     "metadata": {},
     "output_type": "execute_result"
    }
   ],
   "source": [
    "len(df_financial['Indicator Code'].unique()), df_financial.shape[0]"
   ]
  },
  {
   "cell_type": "code",
   "execution_count": 16,
   "metadata": {},
   "outputs": [
    {
     "data": {
      "text/plain": [
       "(3981, 96248)"
      ]
     },
     "execution_count": 16,
     "metadata": {},
     "output_type": "execute_result"
    }
   ],
   "source": [
    "len(df_indicadores['Indicator Code'].unique()), df_indicadores.shape[0]"
   ]
  },
  {
   "cell_type": "code",
   "execution_count": 18,
   "metadata": {},
   "outputs": [
    {
     "data": {
      "text/plain": [
       "(576, 10711)"
      ]
     },
     "execution_count": 18,
     "metadata": {},
     "output_type": "execute_result"
    }
   ],
   "source": [
    "len(df_health['Indicator Code'].unique()), df_health.shape[0]"
   ]
  },
  {
   "cell_type": "code",
   "execution_count": 19,
   "metadata": {},
   "outputs": [
    {
     "data": {
      "text/plain": [
       "(42, 858)"
      ]
     },
     "execution_count": 19,
     "metadata": {},
     "output_type": "execute_result"
    }
   ],
   "source": [
    "len(df_infrastructure['Indicator Code'].unique()), df_infrastructure.shape[0]"
   ]
  },
  {
   "cell_type": "code",
   "execution_count": 20,
   "metadata": {},
   "outputs": [
    {
     "data": {
      "text/plain": [
       "(32, 1169)"
      ]
     },
     "execution_count": 20,
     "metadata": {},
     "output_type": "execute_result"
    }
   ],
   "source": [
    "len(df_energy['Indicator Code'].unique()), df_energy.shape[0]"
   ]
  },
  {
   "cell_type": "code",
   "execution_count": 13,
   "metadata": {},
   "outputs": [
    {
     "data": {
      "text/plain": [
       "NE.EXP.GNFS.KN    61\n",
       "NE.DAB.TOTL.KD    61\n",
       "NE.DAB.TOTL.ZS    61\n",
       "NE.EXP.GNFS.CD    61\n",
       "NE.EXP.GNFS.CN    61\n",
       "Name: Indicator Code, dtype: int64"
      ]
     },
     "execution_count": 13,
     "metadata": {},
     "output_type": "execute_result"
    }
   ],
   "source": [
    "filtro_duplicados = df_main['Indicator Code'].duplicated(keep=False)\n",
    "df_main[filtro_duplicados]['Indicator Code'].value_counts().head()"
   ]
  },
  {
   "cell_type": "code",
   "execution_count": 24,
   "metadata": {},
   "outputs": [
    {
     "data": {
      "text/plain": [
       "NY.GNP.MKTP.CD       61\n",
       "FI.RES.TOTL.CD       61\n",
       "DT.ODA.ODAT.GN.ZS    60\n",
       "BX.GRT.EXTA.CD.WD    60\n",
       "BX.GRT.TECH.CD.WD    60\n",
       "Name: Indicator Code, dtype: int64"
      ]
     },
     "execution_count": 24,
     "metadata": {},
     "output_type": "execute_result"
    }
   ],
   "source": [
    "filtro_duplicados = df_external['Indicator Code'].duplicated(keep=False)\n",
    "df_external[filtro_duplicados]['Indicator Code'].value_counts().head()"
   ]
  },
  {
   "cell_type": "code",
   "execution_count": null,
   "metadata": {},
   "outputs": [
    {
     "name": "stdout",
     "output_type": "stream",
     "text": [
      "0\n",
      "0.0 %\n"
     ]
    }
   ],
   "source": [
    "# Numero de valores perdidos / missings\n",
    "value_na_count = df_main['Value'].isna().sum()\n",
    "print(value_na_count)\n",
    "print(round(value_na_count/ df_main.shape[0] * 100, 2), '%')\n"
   ]
  },
  {
   "cell_type": "code",
   "execution_count": 25,
   "metadata": {},
   "outputs": [
    {
     "name": "stdout",
     "output_type": "stream",
     "text": [
      "0\n",
      "0.0 %\n"
     ]
    }
   ],
   "source": [
    "value_na_count = df_external['Value'].isna().sum()\n",
    "print(value_na_count)\n",
    "print(round(value_na_count/ df_external.shape[0] * 100, 2), '%')"
   ]
  },
  {
   "cell_type": "code",
   "execution_count": 26,
   "metadata": {},
   "outputs": [
    {
     "name": "stdout",
     "output_type": "stream",
     "text": [
      "0\n",
      "0.0 %\n"
     ]
    }
   ],
   "source": [
    "value_na_count = df_financial['Value'].isna().sum()\n",
    "print(value_na_count)\n",
    "print(round(value_na_count/ df_financial.shape[0] * 100, 2), '%')"
   ]
  },
  {
   "cell_type": "code",
   "execution_count": 27,
   "metadata": {},
   "outputs": [
    {
     "name": "stdout",
     "output_type": "stream",
     "text": [
      "0\n",
      "0.0 %\n"
     ]
    }
   ],
   "source": [
    "value_na_count = df_indicadores['Value'].isna().sum()\n",
    "print(value_na_count)\n",
    "print(round(value_na_count/ df_indicadores.shape[0] * 100, 2), '%')"
   ]
  },
  {
   "cell_type": "code",
   "execution_count": 30,
   "metadata": {},
   "outputs": [
    {
     "name": "stdout",
     "output_type": "stream",
     "text": [
      "0\n",
      "0.0 %\n"
     ]
    }
   ],
   "source": [
    "value_na_count = df_health['Value'].isna().sum()\n",
    "print(value_na_count)\n",
    "print(round(value_na_count/ df_health.shape[0] * 100, 2), '%')"
   ]
  },
  {
   "cell_type": "code",
   "execution_count": 31,
   "metadata": {},
   "outputs": [
    {
     "name": "stdout",
     "output_type": "stream",
     "text": [
      "0\n",
      "0.0 %\n"
     ]
    }
   ],
   "source": [
    "value_na_count = df_infrastructure['Value'].isna().sum()\n",
    "print(value_na_count)\n",
    "print(round(value_na_count/ df_infrastructure.shape[0] * 100, 2), '%')"
   ]
  },
  {
   "cell_type": "code",
   "execution_count": 32,
   "metadata": {},
   "outputs": [
    {
     "name": "stdout",
     "output_type": "stream",
     "text": [
      "0\n",
      "0.0 %\n"
     ]
    }
   ],
   "source": [
    "value_na_count = df_energy['Value'].isna().sum()\n",
    "print(value_na_count)\n",
    "print(round(value_na_count/ df_energy.shape[0] * 100, 2), '%')"
   ]
  },
  {
   "cell_type": "code",
   "execution_count": 9,
   "metadata": {},
   "outputs": [
    {
     "data": {
      "image/png": "[encoded data removed]",
      "text/plain": [
       "<Figure size 432x288 with 1 Axes>"
      ]
     },
     "metadata": {
      "needs_background": "light"
     },
     "output_type": "display_data"
    }
   ],
   "source": [
    "df_main['Value'].hist()\n",
    "plt.show()"
   ]
  },
  {
   "cell_type": "code",
   "execution_count": 35,
   "metadata": {},
   "outputs": [
    {
     "data": {
      "image/png": "[encoded data removed]",
      "text/plain": [
       "<Figure size 432x288 with 1 Axes>"
      ]
     },
     "metadata": {
      "needs_background": "light"
     },
     "output_type": "display_data"
    }
   ],
   "source": [
    "df_external['Value'].hist()\n",
    "plt.show()"
   ]
  },
  {
   "cell_type": "code",
   "execution_count": 21,
   "metadata": {},
   "outputs": [
    {
     "data": {
      "text/html": [
       "<div>\n",
       "<style scoped>\n",
       "    .dataframe tbody tr th:only-of-type {\n",
       "        vertical-align: middle;\n",
       "    }\n",
       "\n",
       "    .dataframe tbody tr th {\n",
       "        vertical-align: top;\n",
       "    }\n",
       "\n",
       "    .dataframe thead th {\n",
       "        text-align: right;\n",
       "    }\n",
       "</style>\n",
       "<table border=\"1\" class=\"dataframe\">\n",
       "  <thead>\n",
       "    <tr style=\"text-align: right;\">\n",
       "      <th></th>\n",
       "      <th>Country Name</th>\n",
       "      <th>Country ISO3</th>\n",
       "      <th>Year</th>\n",
       "      <th>Indicator Name</th>\n",
       "      <th>Indicator Code</th>\n",
       "      <th>Value</th>\n",
       "    </tr>\n",
       "  </thead>\n",
       "  <tbody>\n",
       "    <tr>\n",
       "      <th>0</th>\n",
       "      <td>#country+name</td>\n",
       "      <td>#country+code</td>\n",
       "      <td>#date+year</td>\n",
       "      <td>#indicator+name</td>\n",
       "      <td>#indicator+code</td>\n",
       "      <td>#indicator+value+num</td>\n",
       "    </tr>\n",
       "    <tr>\n",
       "      <th>1</th>\n",
       "      <td>Peru</td>\n",
       "      <td>PER</td>\n",
       "      <td>2014</td>\n",
       "      <td>Annualized Mean Income Growth (2004-2014)</td>\n",
       "      <td>5.0.AMeanIncGr.All</td>\n",
       "      <td>4.07865692</td>\n",
       "    </tr>\n",
       "    <tr>\n",
       "      <th>2</th>\n",
       "      <td>Peru</td>\n",
       "      <td>PER</td>\n",
       "      <td>2014</td>\n",
       "      <td>Annualized Mean Income Growth Bottom 40 Percen...</td>\n",
       "      <td>5.0.AMeanIncGr.B40</td>\n",
       "      <td>6.48736384</td>\n",
       "    </tr>\n",
       "    <tr>\n",
       "      <th>3</th>\n",
       "      <td>Peru</td>\n",
       "      <td>PER</td>\n",
       "      <td>2009</td>\n",
       "      <td>Annualized Mean Income Growth (2004-2009)</td>\n",
       "      <td>5.1.AMeanIncGr.All</td>\n",
       "      <td>5.05714401</td>\n",
       "    </tr>\n",
       "    <tr>\n",
       "      <th>4</th>\n",
       "      <td>Peru</td>\n",
       "      <td>PER</td>\n",
       "      <td>2009</td>\n",
       "      <td>Annualized Mean Income Growth Bottom 40 Percen...</td>\n",
       "      <td>5.1.AMeanIncGr.B40</td>\n",
       "      <td>7.20753731</td>\n",
       "    </tr>\n",
       "    <tr>\n",
       "      <th>...</th>\n",
       "      <td>...</td>\n",
       "      <td>...</td>\n",
       "      <td>...</td>\n",
       "      <td>...</td>\n",
       "      <td>...</td>\n",
       "      <td>...</td>\n",
       "    </tr>\n",
       "    <tr>\n",
       "      <th>1164</th>\n",
       "      <td>Peru</td>\n",
       "      <td>PER</td>\n",
       "      <td>1966</td>\n",
       "      <td>Ores and metals exports (% of merchandise expo...</td>\n",
       "      <td>TX.VAL.MMTL.ZS.UN</td>\n",
       "      <td>47.8873300852671</td>\n",
       "    </tr>\n",
       "    <tr>\n",
       "      <th>1165</th>\n",
       "      <td>Peru</td>\n",
       "      <td>PER</td>\n",
       "      <td>1965</td>\n",
       "      <td>Ores and metals exports (% of merchandise expo...</td>\n",
       "      <td>TX.VAL.MMTL.ZS.UN</td>\n",
       "      <td>43.9488646543684</td>\n",
       "    </tr>\n",
       "    <tr>\n",
       "      <th>1166</th>\n",
       "      <td>Peru</td>\n",
       "      <td>PER</td>\n",
       "      <td>1964</td>\n",
       "      <td>Ores and metals exports (% of merchandise expo...</td>\n",
       "      <td>TX.VAL.MMTL.ZS.UN</td>\n",
       "      <td>40.5548620661115</td>\n",
       "    </tr>\n",
       "    <tr>\n",
       "      <th>1167</th>\n",
       "      <td>Peru</td>\n",
       "      <td>PER</td>\n",
       "      <td>1963</td>\n",
       "      <td>Ores and metals exports (% of merchandise expo...</td>\n",
       "      <td>TX.VAL.MMTL.ZS.UN</td>\n",
       "      <td>36.9264247824653</td>\n",
       "    </tr>\n",
       "    <tr>\n",
       "      <th>1168</th>\n",
       "      <td>Peru</td>\n",
       "      <td>PER</td>\n",
       "      <td>1962</td>\n",
       "      <td>Ores and metals exports (% of merchandise expo...</td>\n",
       "      <td>TX.VAL.MMTL.ZS.UN</td>\n",
       "      <td>40.1918932433987</td>\n",
       "    </tr>\n",
       "  </tbody>\n",
       "</table>\n",
       "<p>128383 rows × 6 columns</p>\n",
       "</div>"
      ],
      "text/plain": [
       "       Country Name   Country ISO3        Year  \\\n",
       "0     #country+name  #country+code  #date+year   \n",
       "1              Peru            PER        2014   \n",
       "2              Peru            PER        2014   \n",
       "3              Peru            PER        2009   \n",
       "4              Peru            PER        2009   \n",
       "...             ...            ...         ...   \n",
       "1164           Peru            PER        1966   \n",
       "1165           Peru            PER        1965   \n",
       "1166           Peru            PER        1964   \n",
       "1167           Peru            PER        1963   \n",
       "1168           Peru            PER        1962   \n",
       "\n",
       "                                         Indicator Name      Indicator Code  \\\n",
       "0                                       #indicator+name     #indicator+code   \n",
       "1             Annualized Mean Income Growth (2004-2014)  5.0.AMeanIncGr.All   \n",
       "2     Annualized Mean Income Growth Bottom 40 Percen...  5.0.AMeanIncGr.B40   \n",
       "3             Annualized Mean Income Growth (2004-2009)  5.1.AMeanIncGr.All   \n",
       "4     Annualized Mean Income Growth Bottom 40 Percen...  5.1.AMeanIncGr.B40   \n",
       "...                                                 ...                 ...   \n",
       "1164  Ores and metals exports (% of merchandise expo...   TX.VAL.MMTL.ZS.UN   \n",
       "1165  Ores and metals exports (% of merchandise expo...   TX.VAL.MMTL.ZS.UN   \n",
       "1166  Ores and metals exports (% of merchandise expo...   TX.VAL.MMTL.ZS.UN   \n",
       "1167  Ores and metals exports (% of merchandise expo...   TX.VAL.MMTL.ZS.UN   \n",
       "1168  Ores and metals exports (% of merchandise expo...   TX.VAL.MMTL.ZS.UN   \n",
       "\n",
       "                     Value  \n",
       "0     #indicator+value+num  \n",
       "1               4.07865692  \n",
       "2               6.48736384  \n",
       "3               5.05714401  \n",
       "4               7.20753731  \n",
       "...                    ...  \n",
       "1164      47.8873300852671  \n",
       "1165      43.9488646543684  \n",
       "1166      40.5548620661115  \n",
       "1167      36.9264247824653  \n",
       "1168      40.1918932433987  \n",
       "\n",
       "[128383 rows x 6 columns]"
      ]
     },
     "execution_count": 21,
     "metadata": {},
     "output_type": "execute_result"
    }
   ],
   "source": [
    "pd.concat([df_main,df_external,df_financial,df_indicadores,df_health,df_infrastructure,df_energy])"
   ]
  },
  {
   "cell_type": "code",
   "execution_count": 22,
   "metadata": {},
   "outputs": [
    {
     "data": {
      "text/html": [
       "<div>\n",
       "<style scoped>\n",
       "    .dataframe tbody tr th:only-of-type {\n",
       "        vertical-align: middle;\n",
       "    }\n",
       "\n",
       "    .dataframe tbody tr th {\n",
       "        vertical-align: top;\n",
       "    }\n",
       "\n",
       "    .dataframe thead th {\n",
       "        text-align: right;\n",
       "    }\n",
       "</style>\n",
       "<table border=\"1\" class=\"dataframe\">\n",
       "  <thead>\n",
       "    <tr style=\"text-align: right;\">\n",
       "      <th></th>\n",
       "      <th>Country Name</th>\n",
       "      <th>Country ISO3</th>\n",
       "      <th>Year</th>\n",
       "      <th>Indicator Name</th>\n",
       "      <th>Indicator Code</th>\n",
       "      <th>Value</th>\n",
       "    </tr>\n",
       "  </thead>\n",
       "  <tbody>\n",
       "    <tr>\n",
       "      <th>0</th>\n",
       "      <td>#country+name</td>\n",
       "      <td>#country+code</td>\n",
       "      <td>#date+year</td>\n",
       "      <td>#indicator+name</td>\n",
       "      <td>#indicator+code</td>\n",
       "      <td>#indicator+value+num</td>\n",
       "    </tr>\n",
       "    <tr>\n",
       "      <th>1</th>\n",
       "      <td>Peru</td>\n",
       "      <td>PER</td>\n",
       "      <td>2014</td>\n",
       "      <td>Annualized Mean Income Growth (2004-2014)</td>\n",
       "      <td>5.0.AMeanIncGr.All</td>\n",
       "      <td>4.07865692</td>\n",
       "    </tr>\n",
       "    <tr>\n",
       "      <th>2</th>\n",
       "      <td>Peru</td>\n",
       "      <td>PER</td>\n",
       "      <td>2014</td>\n",
       "      <td>Annualized Mean Income Growth Bottom 40 Percen...</td>\n",
       "      <td>5.0.AMeanIncGr.B40</td>\n",
       "      <td>6.48736384</td>\n",
       "    </tr>\n",
       "    <tr>\n",
       "      <th>3</th>\n",
       "      <td>Peru</td>\n",
       "      <td>PER</td>\n",
       "      <td>2009</td>\n",
       "      <td>Annualized Mean Income Growth (2004-2009)</td>\n",
       "      <td>5.1.AMeanIncGr.All</td>\n",
       "      <td>5.05714401</td>\n",
       "    </tr>\n",
       "    <tr>\n",
       "      <th>4</th>\n",
       "      <td>Peru</td>\n",
       "      <td>PER</td>\n",
       "      <td>2009</td>\n",
       "      <td>Annualized Mean Income Growth Bottom 40 Percen...</td>\n",
       "      <td>5.1.AMeanIncGr.B40</td>\n",
       "      <td>7.20753731</td>\n",
       "    </tr>\n",
       "    <tr>\n",
       "      <th>...</th>\n",
       "      <td>...</td>\n",
       "      <td>...</td>\n",
       "      <td>...</td>\n",
       "      <td>...</td>\n",
       "      <td>...</td>\n",
       "      <td>...</td>\n",
       "    </tr>\n",
       "    <tr>\n",
       "      <th>853</th>\n",
       "      <td>Peru</td>\n",
       "      <td>PER</td>\n",
       "      <td>1999</td>\n",
       "      <td>Personal computers (per 100 people)</td>\n",
       "      <td>IT.CMP.PCMP.P2</td>\n",
       "      <td>3.45114613138214</td>\n",
       "    </tr>\n",
       "    <tr>\n",
       "      <th>854</th>\n",
       "      <td>Peru</td>\n",
       "      <td>PER</td>\n",
       "      <td>1998</td>\n",
       "      <td>Personal computers (per 100 people)</td>\n",
       "      <td>IT.CMP.PCMP.P2</td>\n",
       "      <td>2.92161582585622</td>\n",
       "    </tr>\n",
       "    <tr>\n",
       "      <th>855</th>\n",
       "      <td>Peru</td>\n",
       "      <td>PER</td>\n",
       "      <td>1997</td>\n",
       "      <td>Personal computers (per 100 people)</td>\n",
       "      <td>IT.CMP.PCMP.P2</td>\n",
       "      <td>2.2621992011885</td>\n",
       "    </tr>\n",
       "    <tr>\n",
       "      <th>856</th>\n",
       "      <td>Peru</td>\n",
       "      <td>PER</td>\n",
       "      <td>1996</td>\n",
       "      <td>Personal computers (per 100 people)</td>\n",
       "      <td>IT.CMP.PCMP.P2</td>\n",
       "      <td>1.81790094330476</td>\n",
       "    </tr>\n",
       "    <tr>\n",
       "      <th>857</th>\n",
       "      <td>Peru</td>\n",
       "      <td>PER</td>\n",
       "      <td>1995</td>\n",
       "      <td>Personal computers (per 100 people)</td>\n",
       "      <td>IT.CMP.PCMP.P2</td>\n",
       "      <td>1.44037900898632</td>\n",
       "    </tr>\n",
       "  </tbody>\n",
       "</table>\n",
       "<p>26665 rows × 6 columns</p>\n",
       "</div>"
      ],
      "text/plain": [
       "      Country Name   Country ISO3        Year  \\\n",
       "0    #country+name  #country+code  #date+year   \n",
       "1             Peru            PER        2014   \n",
       "2             Peru            PER        2014   \n",
       "3             Peru            PER        2009   \n",
       "4             Peru            PER        2009   \n",
       "..             ...            ...         ...   \n",
       "853           Peru            PER        1999   \n",
       "854           Peru            PER        1998   \n",
       "855           Peru            PER        1997   \n",
       "856           Peru            PER        1996   \n",
       "857           Peru            PER        1995   \n",
       "\n",
       "                                        Indicator Name      Indicator Code  \\\n",
       "0                                      #indicator+name     #indicator+code   \n",
       "1            Annualized Mean Income Growth (2004-2014)  5.0.AMeanIncGr.All   \n",
       "2    Annualized Mean Income Growth Bottom 40 Percen...  5.0.AMeanIncGr.B40   \n",
       "3            Annualized Mean Income Growth (2004-2009)  5.1.AMeanIncGr.All   \n",
       "4    Annualized Mean Income Growth Bottom 40 Percen...  5.1.AMeanIncGr.B40   \n",
       "..                                                 ...                 ...   \n",
       "853                Personal computers (per 100 people)      IT.CMP.PCMP.P2   \n",
       "854                Personal computers (per 100 people)      IT.CMP.PCMP.P2   \n",
       "855                Personal computers (per 100 people)      IT.CMP.PCMP.P2   \n",
       "856                Personal computers (per 100 people)      IT.CMP.PCMP.P2   \n",
       "857                Personal computers (per 100 people)      IT.CMP.PCMP.P2   \n",
       "\n",
       "                    Value  \n",
       "0    #indicator+value+num  \n",
       "1              4.07865692  \n",
       "2              6.48736384  \n",
       "3              5.05714401  \n",
       "4              7.20753731  \n",
       "..                    ...  \n",
       "853      3.45114613138214  \n",
       "854      2.92161582585622  \n",
       "855       2.2621992011885  \n",
       "856      1.81790094330476  \n",
       "857      1.44037900898632  \n",
       "\n",
       "[26665 rows x 6 columns]"
      ]
     },
     "execution_count": 22,
     "metadata": {},
     "output_type": "execute_result"
    }
   ],
   "source": [
    "pd.concat([df_main,df_external,df_health,df_infrastructure])"
   ]
  },
  {
   "cell_type": "code",
   "execution_count": 31,
   "metadata": {},
   "outputs": [],
   "source": [
    "df = pd.DataFrame({'df_main','df_external','df_financial','df_indicadores','df_health','df_infrastructure','df_energy'})"
   ]
  }
 ],
 "metadata": {
  "interpreter": {
   "hash": "48220cc7eca233757c47c016205bf12bd55261280c552145fb775af00094acbb"
  },
  "kernelspec": {
   "display_name": "Python 3.10.2 64-bit",
   "language": "python",
   "name": "python3"
  },
  "language_info": {
   "codemirror_mode": {
    "name": "ipython",
    "version": 3
   },
   "file_extension": ".py",
   "mimetype": "text/x-python",
   "name": "python",
   "nbconvert_exporter": "python",
   "pygments_lexer": "ipython3",
   "version": "3.10.2"
  },
  "orig_nbformat": 4
 },
 "nbformat": 4,
 "nbformat_minor": 2
}
