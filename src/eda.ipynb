{
 "cells": [
  {
   "cell_type": "code",
   "execution_count": 6,
   "metadata": {},
   "outputs": [],
   "source": [
    "import datetime # Tipo de dato para fechas y horas\n",
    "import pandas as pd # Manejo de datos tabulados\n",
    "import numpy as np # Algebra Lineal y operaciones matematicas\n",
    "import matplotlib.pyplot as plt # Graficos de datos\n",
    "import seaborn as sns # Graficos estadisticos\n",
    "import pandas_profiling as ppr # ?????????\n",
    "import geopandas as gpd # Pandas para datos geograficos (Mapas!!)\n",
    "from fitter import Fitter # Ajuste de distribuciones de probs"
   ]
  },
  {
   "cell_type": "code",
   "execution_count": null,
   "metadata": {},
   "outputs": [],
   "source": [
    "%matplotlib inline"
   ]
  },
  {
   "cell_type": "code",
   "execution_count": null,
   "metadata": {},
   "outputs": [],
   "source": [
    "sns.set_theme(style=\"whitegrid\")"
   ]
  },
  {
   "cell_type": "code",
   "execution_count": 3,
   "metadata": {},
   "outputs": [],
   "source": [
    "# Leemos los datos seleccionados\n",
    "df_main = pd.read_csv('../data/GlobalNationsEconomy_Population.csv')\n",
    "\n"
   ]
  },
  {
   "cell_type": "code",
   "execution_count": 4,
   "metadata": {},
   "outputs": [
    {
     "data": {
      "text/html": [
       "<div>\n",
       "<style scoped>\n",
       "    .dataframe tbody tr th:only-of-type {\n",
       "        vertical-align: middle;\n",
       "    }\n",
       "\n",
       "    .dataframe tbody tr th {\n",
       "        vertical-align: top;\n",
       "    }\n",
       "\n",
       "    .dataframe thead th {\n",
       "        text-align: right;\n",
       "    }\n",
       "</style>\n",
       "<table border=\"1\" class=\"dataframe\">\n",
       "  <thead>\n",
       "    <tr style=\"text-align: right;\">\n",
       "      <th></th>\n",
       "      <th>Country Name</th>\n",
       "      <th>2018</th>\n",
       "      <th>2017</th>\n",
       "      <th>2016</th>\n",
       "      <th>2015</th>\n",
       "      <th>2014</th>\n",
       "    </tr>\n",
       "  </thead>\n",
       "  <tbody>\n",
       "    <tr>\n",
       "      <th>0</th>\n",
       "      <td>China</td>\n",
       "      <td>1,39,27,30,000</td>\n",
       "      <td>1,38,63,95,000</td>\n",
       "      <td>1,37,86,65,000</td>\n",
       "      <td>1,37,12,20,000</td>\n",
       "      <td>1,36,42,70,000</td>\n",
       "    </tr>\n",
       "    <tr>\n",
       "      <th>1</th>\n",
       "      <td>India</td>\n",
       "      <td>1,35,26,42,283</td>\n",
       "      <td>1,33,86,76,779</td>\n",
       "      <td>1,32,45,17,250</td>\n",
       "      <td>1,31,01,52,392</td>\n",
       "      <td>1,29,56,00,768</td>\n",
       "    </tr>\n",
       "    <tr>\n",
       "      <th>2</th>\n",
       "      <td>United States</td>\n",
       "      <td>32,68,38,199</td>\n",
       "      <td>32,51,22,128</td>\n",
       "      <td>32,30,71,755</td>\n",
       "      <td>32,07,38,994</td>\n",
       "      <td>31,83,86,329</td>\n",
       "    </tr>\n",
       "    <tr>\n",
       "      <th>3</th>\n",
       "      <td>Indonesia</td>\n",
       "      <td>26,76,70,549</td>\n",
       "      <td>26,46,50,969</td>\n",
       "      <td>26,15,56,386</td>\n",
       "      <td>25,83,83,257</td>\n",
       "      <td>25,51,28,076</td>\n",
       "    </tr>\n",
       "    <tr>\n",
       "      <th>4</th>\n",
       "      <td>Pakistan</td>\n",
       "      <td>21,22,28,288</td>\n",
       "      <td>20,79,06,210</td>\n",
       "      <td>20,36,31,356</td>\n",
       "      <td>19,94,26,953</td>\n",
       "      <td>19,53,05,012</td>\n",
       "    </tr>\n",
       "  </tbody>\n",
       "</table>\n",
       "</div>"
      ],
      "text/plain": [
       "    Country Name            2018            2017            2016  \\\n",
       "0          China  1,39,27,30,000  1,38,63,95,000  1,37,86,65,000   \n",
       "1          India  1,35,26,42,283  1,33,86,76,779  1,32,45,17,250   \n",
       "2  United States    32,68,38,199    32,51,22,128    32,30,71,755   \n",
       "3      Indonesia    26,76,70,549    26,46,50,969    26,15,56,386   \n",
       "4       Pakistan    21,22,28,288    20,79,06,210    20,36,31,356   \n",
       "\n",
       "             2015            2014  \n",
       "0  1,37,12,20,000  1,36,42,70,000  \n",
       "1  1,31,01,52,392  1,29,56,00,768  \n",
       "2    32,07,38,994    31,83,86,329  \n",
       "3    25,83,83,257    25,51,28,076  \n",
       "4    19,94,26,953    19,53,05,012  "
      ]
     },
     "execution_count": 4,
     "metadata": {},
     "output_type": "execute_result"
    }
   ],
   "source": [
    "df_main.head()"
   ]
  },
  {
   "cell_type": "code",
   "execution_count": 5,
   "metadata": {},
   "outputs": [
    {
     "name": "stdout",
     "output_type": "stream",
     "text": [
      "<class 'pandas.core.frame.DataFrame'>\n",
      "RangeIndex: 215 entries, 0 to 214\n",
      "Data columns (total 6 columns):\n",
      " #   Column        Non-Null Count  Dtype \n",
      "---  ------        --------------  ----- \n",
      " 0   Country Name  215 non-null    object\n",
      " 1   2018          215 non-null    object\n",
      " 2   2017          215 non-null    object\n",
      " 3   2016          215 non-null    object\n",
      " 4   2015          215 non-null    object\n",
      " 5   2014          215 non-null    object\n",
      "dtypes: object(6)\n",
      "memory usage: 10.2+ KB\n"
     ]
    }
   ],
   "source": [
    "df_main.info()"
   ]
  }
 ],
 "metadata": {
  "interpreter": {
   "hash": "48220cc7eca233757c47c016205bf12bd55261280c552145fb775af00094acbb"
  },
  "kernelspec": {
   "display_name": "Python 3.10.2 64-bit",
   "language": "python",
   "name": "python3"
  },
  "language_info": {
   "codemirror_mode": {
    "name": "ipython",
    "version": 3
   },
   "file_extension": ".py",
   "mimetype": "text/x-python",
   "name": "python",
   "nbconvert_exporter": "python",
   "pygments_lexer": "ipython3",
   "version": "3.10.2"
  },
  "orig_nbformat": 4
 },
 "nbformat": 4,
 "nbformat_minor": 2
}
